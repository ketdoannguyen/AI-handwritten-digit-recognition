{
  "cells": [
    {
      "cell_type": "markdown",
      "metadata": {
        "id": "18WrGYCgU3Zz"
      },
      "source": [
        "Handwritten digit recognition use SVM\n",
        "\n"
      ]
    },
    {
      "cell_type": "code",
      "execution_count": null,
      "metadata": {
        "id": "MJmh9YUnlTZR"
      },
      "outputs": [],
      "source": [
        "import numpy as np\n",
        "import pandas as pd\n",
        "import math\n",
        "from sklearn.model_selection import train_test_split\n",
        "from sklearn import preprocessing\n",
        "from sklearn.metrics import classification_report, confusion_matrix, accuracy_score\n",
        "from sklearn.svm import SVC\n",
        "import seaborn as sns\n",
        "import matplotlib.pyplot as plt\n",
        "import tensorflow as tf\n",
        "from tensorflow import keras \n",
        "import keras\n",
        "from keras.datasets import mnist\n",
        "from keras.models import Sequential\n",
        "from keras.layers import Dense, Dropout, Flatten\n",
        "from keras import backend as K\n",
        "from skimage.feature import hog\n",
        "import cv2\n",
        "import pickle\n",
        "import gc\n",
        "import joblib\n",
        "\n",
        "# from google.colab import drive\n",
        "# drive.mount('/content/drive')"
      ]
    },
    {
      "cell_type": "code",
      "execution_count": null,
      "metadata": {
        "id": "rnK7Q2XTlb8B"
      },
      "outputs": [],
      "source": [
        "#Gọi dữ liệu có săn từ dataset mnist\n",
        "mnist = tf.keras.datasets.mnist\n",
        "\n",
        "(X_train, y_train), (X_test, y_test) = mnist.load_data()\n",
        "\n",
        "X = np.concatenate((X_train, X_test))\n",
        "y = np.concatenate((y_train, y_test))\n",
        "y = y.astype(int)\n",
        "print(\"X Shape : \",X.shape)\n",
        "print(\"y Shape : \",y.shape)"
      ]
    },
    {
      "cell_type": "code",
      "execution_count": null,
      "metadata": {
        "id": "Bq3QvORnHUkN"
      },
      "outputs": [],
      "source": [
        "# Hiển thị ra 10 ảnh đầu tiên trong dataset mnist\n",
        "plt.figure(figsize=(15,7))\n",
        "for i in range(10):\n",
        "  plt.subplot(2,5,i+1)\n",
        "  plt.imshow(X[i],cmap=\"gray\")\n",
        "  plt.axis(\"off\")\n",
        "  plt.title(\"X[\"+str(i)+\"]\")\n",
        "plt.show()\n",
        "# Nhãn của 10 ảnh đầu tiên trong dataset mnist\n",
        "[label for label in y[:10]]"
      ]
    },
    {
      "cell_type": "code",
      "execution_count": null,
      "metadata": {
        "id": "mw9l25qelnbf"
      },
      "outputs": [],
      "source": [
        "#Gọi dữ liệu từ dataset drive\n",
        "train = pd.read_csv('/content/drive/MyDrive/train.csv')\n",
        "train.shape"
      ]
    },
    {
      "cell_type": "code",
      "execution_count": null,
      "metadata": {
        "id": "5-DEaf6rMfh5"
      },
      "outputs": [],
      "source": [
        "#Lấy dữ liệu, tách và reshape dữ liệu\n",
        "X_drive = train.drop('label', axis = 1).values \n",
        "X_drive = X_drive.reshape(X_drive.shape[0],28,28)\n",
        "y_drive = train.label.values\n",
        "print(\"X_drive Shape : \",X_drive.shape)\n",
        "print(\"y_drive Shape : \",y_drive.shape)"
      ]
    },
    {
      "cell_type": "code",
      "execution_count": null,
      "metadata": {
        "id": "F6H66SQbl2Nn"
      },
      "outputs": [],
      "source": [
        "# Gộp 2 tập dataset từ mnist và drive\n",
        "X = np.concatenate((X, X_drive))\n",
        "y = np.concatenate((y, y_drive))\n",
        "\n",
        "print(\"X Shape : \",X.shape)\n",
        "print(\"y Shape : \",y.shape)"
      ]
    },
    {
      "cell_type": "code",
      "execution_count": null,
      "metadata": {
        "id": "qJpZOWOTrEgo"
      },
      "outputs": [],
      "source": [
        "# Hiển thị 100 ảnh chữ số và label của nó \n",
        "numbers_to_display = 100\n",
        "num_cells = math.ceil(math.sqrt(numbers_to_display))\n",
        "plt.figure(figsize=(20,20))\n",
        "for i in range(numbers_to_display):\n",
        "    plt.subplot(num_cells, num_cells, i+1)\n",
        "    plt.xticks([])\n",
        "    plt.yticks([])\n",
        "    plt.grid(False)\n",
        "    plt.imshow(X[i], cmap=plt.cm.binary)\n",
        "    plt.xlabel(y[i])\n",
        "plt.show()"
      ]
    },
    {
      "cell_type": "code",
      "execution_count": null,
      "metadata": {
        "id": "8s93xsCtbgPe"
      },
      "outputs": [],
      "source": [
        "X = X.reshape(X.shape[0],-1)\n",
        "print(\"X Shape : \",X.shape)"
      ]
    },
    {
      "cell_type": "code",
      "execution_count": null,
      "metadata": {
        "id": "G91ScA1lNhlj"
      },
      "outputs": [],
      "source": [
        "X_train, X_test, y_train, y_test = train_test_split(X, y, test_size=0.25, random_state=42)\n",
        "\n",
        "print(\"X_train Shape : \",X_train.shape)\n",
        "print(\"y_train Shape : \",y_train.shape)\n",
        "print(\"X_test Shape : \",X_test.shape)\n",
        "print(\"y_test Shape : \",y_test.shape)"
      ]
    },
    {
      "cell_type": "code",
      "execution_count": null,
      "metadata": {
        "id": "9ryYW13E06VT"
      },
      "outputs": [],
      "source": [
        "label = sorted(pd.unique(y_train))\n",
        "print(label)"
      ]
    },
    {
      "cell_type": "code",
      "execution_count": null,
      "metadata": {
        "id": "jqiHzzFCwd8-"
      },
      "outputs": [],
      "source": [
        "# Số lượng lớp và số lượng trong tập dữ liệu train\n",
        "plt.plot(figure = (20,14))\n",
        "g = sns.countplot(y_train, palette = 'icefire')\n",
        "plt.title('Number of digit classes')\n",
        "for i in range(10):\n",
        "  print(\"Number \"+str(i)+\" :\",y_train.tolist().count(i))"
      ]
    },
    {
      "cell_type": "code",
      "execution_count": null,
      "metadata": {
        "id": "69of3_1_8CYU"
      },
      "outputs": [],
      "source": [
        "# Số lượng lớp và số lượng trong tập dữ liệu test\n",
        "plt.plot(figure = (20,14))\n",
        "g = sns.countplot(y_test, palette = 'icefire')\n",
        "plt.title('Number of digit classes')\n",
        "for i in range(10):\n",
        "  print(\"Number \"+str(i)+\" :\",y_test.tolist().count(i))"
      ]
    },
    {
      "cell_type": "markdown",
      "metadata": {
        "id": "TvXN_PAK9N4s"
      },
      "source": [
        "Model Building"
      ]
    },
    {
      "cell_type": "markdown",
      "metadata": {
        "id": "w37bHY-o-nfF"
      },
      "source": [
        "1. Linear SVM"
      ]
    },
    {
      "cell_type": "code",
      "execution_count": null,
      "metadata": {
        "id": "HtOWgKaDgV7Z"
      },
      "outputs": [],
      "source": [
        "%%time\n",
        "# Xây dựng mô hình tuyến tính \n",
        "model_linear = SVC(kernel='linear')\n",
        "model_linear.fit(X_train, y_train)\n",
        "\n",
        "# Dự đoán\n",
        "y_pred_linear = model_linear.predict(X_test)"
      ]
    },
    {
      "cell_type": "code",
      "execution_count": null,
      "metadata": {
        "id": "AEd5zGWE0P2i"
      },
      "outputs": [],
      "source": [
        "filename = '/content/drive/MyDrive/model/model_svm_linear.sav'\n",
        "pickle.dump(model_linear, open(filename, 'wb'))"
      ]
    },
    {
      "cell_type": "code",
      "execution_count": null,
      "metadata": {
        "id": "Filhpv7NgxJE"
      },
      "outputs": [],
      "source": [
        "# ma trận và độ chính xác \n",
        "# Độ chính xác\n",
        "print(\"Độ chính xác :\", accuracy_score(y_true=y_test, y_pred=y_pred_linear), \"\\n\")\n",
        "\n",
        "# matrix\n",
        "print(\"Ma trận độ chính xác : \")\n",
        "print(confusion_matrix(y_true=y_test, y_pred=y_pred_linear))\n",
        "\n",
        "# Độ chính xác theo lớp\n",
        "print(\"\\nĐộ chính xác theo lớp: \")\n",
        "print(classification_report(y_test, y_pred_linear))"
      ]
    },
    {
      "cell_type": "code",
      "execution_count": null,
      "metadata": {
        "id": "J2cIUD73l6nB"
      },
      "outputs": [],
      "source": [
        "plt.imshow(X_test[20].reshape(28,28))\n",
        "model_linear.predict(X_test[20].reshape(1,-1))"
      ]
    },
    {
      "cell_type": "code",
      "execution_count": null,
      "metadata": {
        "id": "DWKgg5RgNmNV"
      },
      "outputs": [],
      "source": [
        "# Giải phóng bộ nhớ\n",
        "gc.collect()"
      ]
    },
    {
      "cell_type": "markdown",
      "metadata": {
        "id": "YiQbvowCC_cC"
      },
      "source": [
        "2. Non-Linear SVM with the RBF kernel."
      ]
    },
    {
      "cell_type": "code",
      "execution_count": null,
      "metadata": {
        "id": "lFsIuNvUAhum"
      },
      "outputs": [],
      "source": [
        "%%time\n",
        "# sử dụng hạt nhân rbf, C = 1, giá trị mặc định của gamma\n",
        "\n",
        "# xây dựng mô hình phi tuyến tính\n",
        "model_linear_rbf = SVC(kernel='rbf')\n",
        "model_linear_rbf.fit(X_train, y_train)\n",
        "\n",
        "# predict\n",
        "y_pred_rbf = model_linear_rbf.predict(X_test)"
      ]
    },
    {
      "cell_type": "code",
      "execution_count": null,
      "metadata": {
        "id": "VC_-0pKLierg"
      },
      "outputs": [],
      "source": [
        "filename = '/content/drive/MyDrive/model/model_svm_rbf.sav'\n",
        "pickle.dump(model_linear_rbf, open(filename, 'wb'))"
      ]
    },
    {
      "cell_type": "code",
      "execution_count": null,
      "metadata": {
        "id": "_TEgyAoFAl4g"
      },
      "outputs": [],
      "source": [
        "# ma trận và độ chính xác \n",
        "\n",
        "# Độ chính xác\n",
        "print(\"Độ chính xác :\", accuracy_score(y_true=y_test, y_pred=y_pred_rbf), \"\\n\")\n",
        "\n",
        "# matrix\n",
        "print(\"Ma trận độ chính xác : \")\n",
        "print(confusion_matrix(y_true=y_test, y_pred=y_pred_rbf))\n",
        "\n",
        "# Độ chính xác theo lớp\n",
        "print(\"\\nĐộ chính xác theo lớp: \")\n",
        "print(classification_report(y_test, y_pred_rbf))"
      ]
    },
    {
      "cell_type": "code",
      "execution_count": null,
      "metadata": {
        "id": "dVXD5DtkkHbd"
      },
      "outputs": [],
      "source": [
        "plt.imshow(X_test[20].reshape(28,28))\n",
        "model_linear_rbf.predict(X_test[20].reshape(1,-1))"
      ]
    },
    {
      "cell_type": "markdown",
      "metadata": {
        "id": "5GnLaEpJDO3L"
      },
      "source": [
        "Grid Search Cross-Validation"
      ]
    },
    {
      "cell_type": "code",
      "execution_count": null,
      "metadata": {
        "id": "vNW5FODbi0HO"
      },
      "outputs": [],
      "source": [
        "%%time\n",
        "from sklearn.model_selection import KFold\n",
        "from sklearn.model_selection import GridSearchCV\n",
        "\n",
        "# Tạo một đối tượng KFold với 5 phần chia\n",
        "folds = KFold(n_splits = 5, shuffle = True, random_state = 10)\n",
        "\n",
        "# chỉ định phạm vi siêu tham số\n",
        "# Đặt tham số bằng xác thực chéo\n",
        "param_grid = {'C': [0.1, 1, 10, 100, 1000],  \n",
        "              'gamma': [1, 0.1, 0.01, 0.001, 0.0001], \n",
        "              'kernel': ['rbf']}\n",
        "\n",
        "# Thiết lập GridSearchCV()\n",
        "model_grid = GridSearchCV(estimator = SVC(), \n",
        "                        param_grid = param_grid, \n",
        "                        scoring= 'accuracy', \n",
        "                        cv = folds, \n",
        "                        verbose = 1,\n",
        "                        return_train_score=True)      \n",
        "\n",
        "# fit the model\n",
        "model_grid.fit(X_train, y_train)"
      ]
    },
    {
      "cell_type": "code",
      "execution_count": null,
      "metadata": {
        "id": "8ackoro3jHzp"
      },
      "outputs": [],
      "source": [
        "# Kết quả cv\n",
        "cv_results = pd.DataFrame(model_grid.cv_results_)\n",
        "cv_results"
      ]
    },
    {
      "cell_type": "code",
      "execution_count": null,
      "metadata": {
        "id": "TATNzP-Ck8MZ"
      },
      "outputs": [],
      "source": [
        "# chuyển đổi C thành kiểu số để vẽ trên trục x\n",
        "cv_results['param_C'] = cv_results['param_C'].astype('int')\n",
        "\n",
        "# plotting\n",
        "plt.figure(figsize=(16,8))\n",
        "\n",
        "# subplot 1/3\n",
        "plt.subplot(131)\n",
        "gamma_01 = cv_results[cv_results['param_gamma']==0.01]\n",
        "\n",
        "plt.plot(gamma_01[\"param_C\"], gamma_01[\"mean_test_score\"])\n",
        "plt.plot(gamma_01[\"param_C\"], gamma_01[\"mean_train_score\"])\n",
        "plt.xlabel('C')\n",
        "plt.ylabel('Accuracy')\n",
        "plt.title(\"Gamma=0.01\")\n",
        "plt.ylim([0.60, 1])\n",
        "plt.legend(['test accuracy', 'train accuracy'], loc='upper left')\n",
        "plt.xscale('log')\n",
        "\n",
        "# subplot 2/3\n",
        "plt.subplot(132)\n",
        "gamma_001 = cv_results[cv_results['param_gamma']==0.001]\n",
        "\n",
        "plt.plot(gamma_001[\"param_C\"], gamma_001[\"mean_test_score\"])\n",
        "plt.plot(gamma_001[\"param_C\"], gamma_001[\"mean_train_score\"])\n",
        "plt.xlabel('C')\n",
        "plt.ylabel('Accuracy')\n",
        "plt.title(\"Gamma=0.001\")\n",
        "plt.ylim([0.60, 1])\n",
        "plt.legend(['test accuracy', 'train accuracy'], loc='upper left')\n",
        "plt.xscale('log')\n",
        "\n",
        "\n",
        "# subplot 3/3\n",
        "plt.subplot(133)\n",
        "gamma_0001 = cv_results[cv_results['param_gamma']==0.0001]\n",
        "\n",
        "plt.plot(gamma_0001[\"param_C\"], gamma_0001[\"mean_test_score\"])\n",
        "plt.plot(gamma_0001[\"param_C\"], gamma_0001[\"mean_train_score\"])\n",
        "plt.xlabel('C')\n",
        "plt.ylabel('Accuracy')\n",
        "plt.title(\"Gamma=0.0001\")\n",
        "plt.ylim([0.60, 1])\n",
        "plt.legend(['test accuracy', 'train accuracy'], loc='upper left')\n",
        "plt.xscale('log')"
      ]
    },
    {
      "cell_type": "code",
      "execution_count": null,
      "metadata": {
        "id": "4UWp6w1ilFWF"
      },
      "outputs": [],
      "source": [
        "# In điểm chính xác tối ưu và siêu tham số\n",
        "best_score = model_grid.best_score_\n",
        "best_hyperparams = model_grid.best_params_\n",
        "\n",
        "print(\"Điểm kiểm tra tốt nhất là {0} tương ứng với siêu đường kính\".format(best_score, best_hyperparams))"
      ]
    },
    {
      "cell_type": "markdown",
      "metadata": {
        "id": "kEXIcJHXT3FO"
      },
      "source": [
        "**Crop the image, extract features in the image**"
      ]
    },
    {
      "cell_type": "code",
      "execution_count": null,
      "metadata": {
        "id": "UfKV9qulbrj_"
      },
      "outputs": [],
      "source": [
        "X_train = X_train.reshape(X_train.shape[0],28,28)\n",
        "X_test = X_test.reshape(X_test.shape[0],28,28)\n",
        "print(\"X Shape : \",X_train.shape)\n",
        "print(\"X Shape : \",X_test.shape)"
      ]
    },
    {
      "cell_type": "markdown",
      "metadata": {
        "id": "o_w_h5bdX6Ue"
      },
      "source": [
        "1. Step by step process of cropping and processing a photo"
      ]
    },
    {
      "cell_type": "code",
      "execution_count": null,
      "metadata": {
        "id": "tlW06rOSYMpH"
      },
      "outputs": [],
      "source": [
        "img = X_test[1].astype(np.uint8)\n",
        "img_bgr = cv2.cvtColor(img, cv2.COLOR_GRAY2BGR)\n",
        "img_gray = cv2.cvtColor(img_bgr, cv2.COLOR_BGR2GRAY)\n",
        "# Convert to grayscale and apply Gaussian filtering\n",
        "\n",
        "# Use GaussianBlur\n",
        "img_gray = cv2.GaussianBlur(img_gray, (5, 5), 0)\n",
        "\n",
        "# Threshold the image\n",
        "ret, im_th = cv2.threshold(img_gray, 80, 255, cv2.THRESH_BINARY )\n",
        "# Find contours in the image\n",
        "ctrs,_ = cv2.findContours(im_th.copy(), cv2.RETR_EXTERNAL, cv2.CHAIN_APPROX_SIMPLE)\n",
        "plt.imshow(im_th)"
      ]
    },
    {
      "cell_type": "code",
      "execution_count": null,
      "metadata": {
        "id": "vAn7d6pbYO99"
      },
      "outputs": [],
      "source": [
        "boxes = []\n",
        "for c in ctrs:\n",
        "    (x, y, w, h) = cv2.boundingRect(c)\n",
        "    boxes.append([x,y, x+w,y+h])\n",
        "\n",
        "boxes = np.asarray(boxes)\n",
        "left, top = np.min(boxes, axis=0)[:2]\n",
        "right, bottom = np.max(boxes, axis=0)[2:]\n",
        "left,right,top, bottom"
      ]
    },
    {
      "cell_type": "code",
      "execution_count": null,
      "metadata": {
        "id": "fsql36MfYXWv"
      },
      "outputs": [],
      "source": [
        "plt.imshow(im_th[top-1:bottom+1,left-1:right+1])"
      ]
    },
    {
      "cell_type": "code",
      "execution_count": null,
      "metadata": {
        "id": "DxBn-oXpYge-"
      },
      "outputs": [],
      "source": [
        "roi = im_th[top-1:bottom+1,left-1:right+1]\n",
        "# Resize the image\n",
        "roi = cv2.resize(roi, (28, 28), interpolation=cv2.INTER_AREA)\n",
        "roi = cv2.dilate(roi, (3, 3))\n",
        "plt.imshow(roi)"
      ]
    },
    {
      "cell_type": "markdown",
      "metadata": {
        "id": "1YOoSlI5YhG6"
      },
      "source": [
        "2. Processing the training dataset"
      ]
    },
    {
      "cell_type": "code",
      "execution_count": null,
      "metadata": {
        "id": "EYRThJdRmPrG"
      },
      "outputs": [],
      "source": [
        "list_ft = []\n",
        "list_train_remove = []\n",
        "i = -1\n",
        "for img in X_train :\n",
        "  i += 1\n",
        "  img = img.astype(np.uint8)\n",
        "  img_bgr = cv2.cvtColor(img, cv2.COLOR_GRAY2BGR)\n",
        "  img_gray = cv2.cvtColor(img_bgr, cv2.COLOR_BGR2GRAY)\n",
        "\n",
        "  # Use GaussianBlur\n",
        "  im_gray = cv2.GaussianBlur(img_gray, (3, 3), 0)\n",
        "\n",
        "  # Threshold the image\n",
        "  ret, im_th = cv2.threshold(im_gray, 100, 255, cv2.THRESH_BINARY)\n",
        "  # Find contours in the image\n",
        "  ctrs,_ = cv2.findContours(im_th.copy(), cv2.RETR_EXTERNAL, cv2.CHAIN_APPROX_SIMPLE)\n",
        "\n",
        "  # Tìm khung chứa chữ số\n",
        "  try:\n",
        "    boxes = []\n",
        "    for c in ctrs:\n",
        "        (x, y, w, h) = cv2.boundingRect(c)\n",
        "        boxes.append([x,y, x+w,y+h])\n",
        "    boxes = np.asarray(boxes)\n",
        "    left, top = np.min(boxes, axis=0)[:2]\n",
        "    right, bottom = np.max(boxes, axis=0)[2:]\n",
        "\n",
        "    roi = im_th[top-1:bottom+1,left-1:right+1]\n",
        "    roi = cv2.resize(roi, (28, 28), interpolation=cv2.INTER_AREA)\n",
        "    roi = cv2.dilate(roi, (3, 3))\n",
        "    # Calculate the HOG features\n",
        "    roi = roi.reshape(-1)\n",
        "    list_ft.append(roi)\n",
        "  except Exception as e:\n",
        "    list_train_remove.append(i)\n",
        "    print(i,end=\" - \")\n",
        "features = np.array(list_ft, 'float32')"
      ]
    },
    {
      "cell_type": "code",
      "execution_count": null,
      "metadata": {
        "id": "MPTOjZrPZlJ9"
      },
      "outputs": [],
      "source": [
        "features.shape"
      ]
    },
    {
      "cell_type": "code",
      "execution_count": null,
      "metadata": {
        "id": "DYXCHfDzzD3U"
      },
      "outputs": [],
      "source": [
        "labels = []\n",
        "for i in range(y_train.shape[0]):\n",
        "  if i not in list_train_remove :\n",
        "    labels.append(y_train[i])\n",
        "labels = np.array(labels)\n",
        "print(labels[:10])\n",
        "labels.shape"
      ]
    },
    {
      "cell_type": "code",
      "execution_count": null,
      "metadata": {
        "id": "eYnfEbbeDbJr"
      },
      "outputs": [],
      "source": [
        "# Hiển thị 100 ảnh chữ số và label của nó \n",
        "numbers_to_display = 100\n",
        "num_cells = math.ceil(math.sqrt(numbers_to_display))\n",
        "plt.figure(figsize=(20,20))\n",
        "for i in range(numbers_to_display):\n",
        "    plt.subplot(num_cells, num_cells, i+1)\n",
        "    plt.xticks([])\n",
        "    plt.yticks([])\n",
        "    plt.grid(False)\n",
        "    plt.imshow(features[i].reshape(28,28))\n",
        "    plt.xlabel(labels[i])\n",
        "plt.show()"
      ]
    },
    {
      "cell_type": "markdown",
      "metadata": {
        "id": "1dGiL4eIanqn"
      },
      "source": [
        "3. Training model"
      ]
    },
    {
      "cell_type": "code",
      "execution_count": null,
      "metadata": {
        "id": "4aBnULnIXx7R"
      },
      "outputs": [],
      "source": [
        "# Training\n",
        "model_cut_image = SVC()\n",
        "model_cut_image.fit(features, labels)"
      ]
    },
    {
      "cell_type": "code",
      "execution_count": null,
      "metadata": {
        "id": "nc6kaCBCYPzJ"
      },
      "outputs": [],
      "source": [
        "# Lưu model\n",
        "joblib.dump(model_cut_image, \"/content/drive/MyDrive/model/model_cut_image.sav\", compress=3)"
      ]
    },
    {
      "cell_type": "markdown",
      "metadata": {
        "id": "qPqw3HOmQa6_"
      },
      "source": [
        "4. Test Model"
      ]
    },
    {
      "cell_type": "code",
      "execution_count": null,
      "metadata": {
        "id": "4UM0j5eYRpiL"
      },
      "outputs": [],
      "source": [
        "# Load the classifier\n",
        "model_cut_image = joblib.load(\"/content/drive/MyDrive/model/model_cut_image.sav\")"
      ]
    },
    {
      "cell_type": "code",
      "execution_count": null,
      "metadata": {
        "id": "Mk2va7DXWBXI"
      },
      "outputs": [],
      "source": [
        "list_X_test = []\n",
        "list_test_remove = []\n",
        "i = -1\n",
        "for img in X_test :\n",
        "  i += 1\n",
        "  img = img.astype(np.uint8)\n",
        "  img_bgr = cv2.cvtColor(img, cv2.COLOR_GRAY2BGR)\n",
        "  img_gray = cv2.cvtColor(img_bgr, cv2.COLOR_BGR2GRAY)\n",
        "\n",
        "  # Use GaussianBlur\n",
        "  im_gray = cv2.GaussianBlur(img_gray, (3, 3), 0)\n",
        "\n",
        "  # Threshold the image\n",
        "  ret, im_th = cv2.threshold(im_gray, 100, 255, cv2.THRESH_BINARY)\n",
        "  # Find contours in the image\n",
        "  ctrs,_ = cv2.findContours(im_th.copy(), cv2.RETR_EXTERNAL, cv2.CHAIN_APPROX_SIMPLE)\n",
        "\n",
        "  # Tìm khung chứa chữ số\n",
        "  try:\n",
        "    boxes = []\n",
        "    for c in ctrs:\n",
        "        (x, y, w, h) = cv2.boundingRect(c)\n",
        "        boxes.append([x,y, x+w,y+h])\n",
        "    boxes = np.asarray(boxes)\n",
        "    left, top = np.min(boxes, axis=0)[:2]\n",
        "    right, bottom = np.max(boxes, axis=0)[2:]\n",
        "\n",
        "    roi = im_th[top-1:bottom+1,left-1:right+1]\n",
        "    roi = cv2.resize(roi, (28, 28), interpolation=cv2.INTER_AREA)\n",
        "    roi = cv2.dilate(roi, (3, 3))\n",
        "    # Calculate the HOG features\n",
        "    roi = roi.reshape(-1)\n",
        "    list_X_test.append(roi)\n",
        "  except Exception as e:\n",
        "    list_test_remove.append(i)\n",
        "    print(i,end=\" - \")\n",
        "features_test = np.array(list_X_test, 'float32')"
      ]
    },
    {
      "cell_type": "code",
      "execution_count": null,
      "metadata": {
        "id": "nGirfLDXWV-j"
      },
      "outputs": [],
      "source": [
        "labels_test = []\n",
        "for i in range(y_test.shape[0]):\n",
        "  if i not in list_test_remove :\n",
        "    labels_test.append(y_test[i])\n",
        "labels_test = np.array(labels_test)\n",
        "print(labels_test[:10])\n",
        "print(features_test.shape)\n",
        "print(labels_test.shape)"
      ]
    },
    {
      "cell_type": "code",
      "execution_count": null,
      "metadata": {
        "id": "PYyXowYJW4Ce"
      },
      "outputs": [],
      "source": [
        "# ma trận và độ chính xác \n",
        "labels_pred = model_cut_image.predict(features_test)\n",
        "# Độ chính xác\n",
        "print(\"Độ chính xác :\", accuracy_score(y_true=labels_test, y_pred=labels_pred), \"\\n\")\n",
        "\n",
        "# matrix\n",
        "print(\"Ma trận độ chính xác : \")\n",
        "print(confusion_matrix(y_true=labels_test, y_pred=labels_pred))\n",
        "\n",
        "# Độ chính xác theo lớp\n",
        "print(\"\\nĐộ chính xác theo lớp: \")\n",
        "print(classification_report(labels_test, labels_pred))"
      ]
    },
    {
      "cell_type": "code",
      "execution_count": null,
      "metadata": {
        "id": "xAIGpshPWrGD"
      },
      "outputs": [],
      "source": [
        "# Hiển thị 100 ảnh chữ số và label của nó \n",
        "numbers_to_display = 100\n",
        "num_cells = math.ceil(math.sqrt(numbers_to_display))\n",
        "plt.figure(figsize=(20,20))\n",
        "for i in range(numbers_to_display):\n",
        "    plt.subplot(num_cells, num_cells, i+1)\n",
        "    plt.xticks([])\n",
        "    plt.yticks([])\n",
        "    plt.grid(False)\n",
        "    plt.imshow(features_test[i].reshape(28,28))\n",
        "    plt.xlabel(\"Predict : \"+str(labels_pred[i]))\n",
        "plt.show()"
      ]
    }
  ],
  "metadata": {
    "accelerator": "GPU",
    "colab": {
      "private_outputs": true,
      "provenance": []
    },
    "gpuClass": "standard",
    "kernelspec": {
      "display_name": "Python 3",
      "language": "python",
      "name": "python3"
    },
    "language_info": {
      "name": "python",
      "version": "3.10.8"
    },
    "vscode": {
      "interpreter": {
        "hash": "a42ccb73e7d9bfdf27e036f1d2b8b681e55fc0743cc5586bc2474d4a60f4b886"
      }
    }
  },
  "nbformat": 4,
  "nbformat_minor": 0
}
